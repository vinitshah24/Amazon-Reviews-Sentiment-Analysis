{
 "cells": [
  {
   "cell_type": "markdown",
   "metadata": {},
   "source": [
    "# Amazon Reviews for Sentiment Analysis"
   ]
  },
  {
   "cell_type": "code",
   "execution_count": 1,
   "metadata": {
    "execution": {
     "iopub.execute_input": "2021-12-03T00:12:31.613326Z",
     "iopub.status.busy": "2021-12-03T00:12:31.612545Z",
     "iopub.status.idle": "2021-12-03T00:12:39.936516Z",
     "shell.execute_reply": "2021-12-03T00:12:39.935370Z",
     "shell.execute_reply.started": "2021-12-03T00:12:31.613200Z"
    }
   },
   "outputs": [
    {
     "name": "stderr",
     "output_type": "stream",
     "text": [
      "2021-12-03 00:12:34.272524: W tensorflow/stream_executor/platform/default/dso_loader.cc:60] Could not load dynamic library 'libcudart.so.11.0'; dlerror: libcudart.so.11.0: cannot open shared object file: No such file or directory; LD_LIBRARY_PATH: /opt/conda/lib\n",
      "2021-12-03 00:12:34.272674: I tensorflow/stream_executor/cuda/cudart_stub.cc:29] Ignore above cudart dlerror if you do not have a GPU set up on your machine.\n"
     ]
    }
   ],
   "source": [
    "import matplotlib.pyplot as plt\n",
    "import numpy as np\n",
    "import pandas as pd\n",
    "import seaborn as sns\n",
    "\n",
    "import re\n",
    "import string\n",
    "\n",
    "import nltk\n",
    "from nltk.corpus import stopwords\n",
    "from nltk.stem import WordNetLemmatizer\n",
    "from nltk.tokenize import word_tokenize, sent_tokenize\n",
    "\n",
    "from tensorflow.keras.preprocessing.text import Tokenizer\n",
    "from tensorflow.keras.preprocessing.sequence import pad_sequences\n",
    "from tensorflow.keras.utils import plot_model\n",
    "\n",
    "# nltk.download('punkt')\n",
    "# nltk.download('stopwords')\n",
    "# nltk.download('wordnet')\n",
    "stop = set(stopwords.words(\"english\"))\n",
    "\n",
    "%matplotlib inline"
   ]
  },
  {
   "cell_type": "code",
   "execution_count": 2,
   "metadata": {
    "execution": {
     "iopub.execute_input": "2021-12-03T00:12:39.938562Z",
     "iopub.status.busy": "2021-12-03T00:12:39.938303Z",
     "iopub.status.idle": "2021-12-03T00:15:25.722156Z",
     "shell.execute_reply": "2021-12-03T00:15:25.721216Z",
     "shell.execute_reply.started": "2021-12-03T00:12:39.938534Z"
    }
   },
   "outputs": [],
   "source": [
    "import bz2\n",
    "train = bz2.BZ2File('../input/amazonreviews/train.ft.txt.bz2')\n",
    "test = bz2.BZ2File('../input/amazonreviews/test.ft.txt.bz2')\n",
    "train_data = [x.decode('utf-8') for x in train.readlines()]\n",
    "test_data = [x.decode('utf-8') for x in test.readlines()]"
   ]
  },
  {
   "cell_type": "code",
   "execution_count": 3,
   "metadata": {
    "execution": {
     "iopub.execute_input": "2021-12-03T00:15:25.723740Z",
     "iopub.status.busy": "2021-12-03T00:15:25.723462Z",
     "iopub.status.idle": "2021-12-03T00:15:25.730761Z",
     "shell.execute_reply": "2021-12-03T00:15:25.729800Z",
     "shell.execute_reply.started": "2021-12-03T00:15:25.723707Z"
    }
   },
   "outputs": [
    {
     "name": "stdout",
     "output_type": "stream",
     "text": [
      "Training data count: 3600000\n",
      "Test data count: 400000\n"
     ]
    }
   ],
   "source": [
    "print(f\"Training data count: {len(train_data)}\")\n",
    "print(f\"Test data count: {len(test_data)}\")"
   ]
  },
  {
   "cell_type": "code",
   "execution_count": 4,
   "metadata": {
    "execution": {
     "iopub.execute_input": "2021-12-03T00:15:25.733035Z",
     "iopub.status.busy": "2021-12-03T00:15:25.732755Z",
     "iopub.status.idle": "2021-12-03T00:15:25.745227Z",
     "shell.execute_reply": "2021-12-03T00:15:25.744389Z",
     "shell.execute_reply.started": "2021-12-03T00:15:25.733003Z"
    }
   },
   "outputs": [],
   "source": [
    "def get_df(data_file):\n",
    "    \"\"\" Reads data and creates the dataframe with sentence and label columns \n",
    "        Label:\n",
    "        0 - Positive Review\n",
    "        1 - Negative Review\n",
    "    \"\"\"\n",
    "    labels = [1 if x.split(' ')[0] == \"__label__1\" else 0 for x in data_file]\n",
    "    sentences = [x.split(\" \", 1)[1][:-1].lower() for x in data_file]\n",
    "    return pd.DataFrame({'text': sentences, 'label': labels})"
   ]
  },
  {
   "cell_type": "code",
   "execution_count": 5,
   "metadata": {
    "execution": {
     "iopub.execute_input": "2021-12-03T00:15:25.747029Z",
     "iopub.status.busy": "2021-12-03T00:15:25.746549Z",
     "iopub.status.idle": "2021-12-03T00:15:53.775469Z",
     "shell.execute_reply": "2021-12-03T00:15:53.774604Z",
     "shell.execute_reply.started": "2021-12-03T00:15:25.746990Z"
    }
   },
   "outputs": [],
   "source": [
    "train_df = get_df(train_data)[:50000]\n",
    "test_df = get_df(test_data)[:10000]"
   ]
  },
  {
   "cell_type": "code",
   "execution_count": 6,
   "metadata": {
    "execution": {
     "iopub.execute_input": "2021-12-03T00:15:53.776887Z",
     "iopub.status.busy": "2021-12-03T00:15:53.776658Z",
     "iopub.status.idle": "2021-12-03T00:15:53.796656Z",
     "shell.execute_reply": "2021-12-03T00:15:53.796040Z",
     "shell.execute_reply.started": "2021-12-03T00:15:53.776857Z"
    }
   },
   "outputs": [
    {
     "data": {
      "text/html": [
       "<div>\n",
       "<style scoped>\n",
       "    .dataframe tbody tr th:only-of-type {\n",
       "        vertical-align: middle;\n",
       "    }\n",
       "\n",
       "    .dataframe tbody tr th {\n",
       "        vertical-align: top;\n",
       "    }\n",
       "\n",
       "    .dataframe thead th {\n",
       "        text-align: right;\n",
       "    }\n",
       "</style>\n",
       "<table border=\"1\" class=\"dataframe\">\n",
       "  <thead>\n",
       "    <tr style=\"text-align: right;\">\n",
       "      <th></th>\n",
       "      <th>text</th>\n",
       "      <th>label</th>\n",
       "    </tr>\n",
       "  </thead>\n",
       "  <tbody>\n",
       "    <tr>\n",
       "      <th>0</th>\n",
       "      <td>stuning even for the non-gamer: this sound track was beautiful! it paints the senery in your mind so well i would recomend it even to people who hate vid. game music! i have played the game chrono cross but out of all of the games i have ever played it has the best music! it backs away from crude keyboarding and takes a fresher step with grate guitars and soulful orchestras. it would impress anyone who cares to listen! ^_^</td>\n",
       "      <td>0</td>\n",
       "    </tr>\n",
       "    <tr>\n",
       "      <th>1</th>\n",
       "      <td>the best soundtrack ever to anything.: i'm reading a lot of reviews saying that this is the best 'game soundtrack' and i figured that i'd write a review to disagree a bit. this in my opinino is yasunori mitsuda's ultimate masterpiece. the music is timeless and i'm been listening to it for years now and its beauty simply refuses to fade.the price tag on this is pretty staggering i must say, but if you are going to buy any cd for this much money, this is the only one that i feel would be worth every penny.</td>\n",
       "      <td>0</td>\n",
       "    </tr>\n",
       "    <tr>\n",
       "      <th>2</th>\n",
       "      <td>amazing!: this soundtrack is my favorite music of all time, hands down. the intense sadness of \"prisoners of fate\" (which means all the more if you've played the game) and the hope in \"a distant promise\" and \"girl who stole the star\" have been an important inspiration to me personally throughout my teen years. the higher energy tracks like \"chrono cross ~ time's scar~\", \"time of the dreamwatch\", and \"chronomantique\" (indefinably remeniscent of chrono trigger) are all absolutely superb as well.this soundtrack is amazing music, probably the best of this composer's work (i haven't heard the xenogears soundtrack, so i can't say for sure), and even if you've never played the game, it would be worth twice the price to buy it.i wish i could give it 6 stars.</td>\n",
       "      <td>0</td>\n",
       "    </tr>\n",
       "    <tr>\n",
       "      <th>3</th>\n",
       "      <td>excellent soundtrack: i truly like this soundtrack and i enjoy video game music. i have played this game and most of the music on here i enjoy and it's truly relaxing and peaceful.on disk one. my favorites are scars of time, between life and death, forest of illusion, fortress of ancient dragons, lost fragment, and drowned valley.disk two: the draggons, galdorb - home, chronomantique, prisoners of fate, gale, and my girlfriend likes zelbessdisk three: the best of the three. garden of god, chronopolis, fates, jellyfish sea, burning orphange, dragon's prayer, tower of stars, dragon god, and radical dreamers - unstealable jewel.overall, this is a excellent soundtrack and should be brought by those that like video game music.xander cross</td>\n",
       "      <td>0</td>\n",
       "    </tr>\n",
       "    <tr>\n",
       "      <th>4</th>\n",
       "      <td>remember, pull your jaw off the floor after hearing it: if you've played the game, you know how divine the music is! every single song tells a story of the game, it's that good! the greatest songs are without a doubt, chrono cross: time's scar, magical dreamers: the wind, the stars, and the sea and radical dreamers: unstolen jewel. (translation varies) this music is perfect if you ask me, the best it can be. yasunori mitsuda just poured his heart on and wrote it down on paper.</td>\n",
       "      <td>0</td>\n",
       "    </tr>\n",
       "  </tbody>\n",
       "</table>\n",
       "</div>"
      ],
      "text/plain": [
       "                                                                                                                                                                                                                                                                                                                                                                                                                                                                                                                                                                                                                                                                                                                                                                                       text  \\\n",
       "0                                                                                                                                                                                                                                                                                                                                                stuning even for the non-gamer: this sound track was beautiful! it paints the senery in your mind so well i would recomend it even to people who hate vid. game music! i have played the game chrono cross but out of all of the games i have ever played it has the best music! it backs away from crude keyboarding and takes a fresher step with grate guitars and soulful orchestras. it would impress anyone who cares to listen! ^_^   \n",
       "1                                                                                                                                                                                                                                                             the best soundtrack ever to anything.: i'm reading a lot of reviews saying that this is the best 'game soundtrack' and i figured that i'd write a review to disagree a bit. this in my opinino is yasunori mitsuda's ultimate masterpiece. the music is timeless and i'm been listening to it for years now and its beauty simply refuses to fade.the price tag on this is pretty staggering i must say, but if you are going to buy any cd for this much money, this is the only one that i feel would be worth every penny.   \n",
       "2  amazing!: this soundtrack is my favorite music of all time, hands down. the intense sadness of \"prisoners of fate\" (which means all the more if you've played the game) and the hope in \"a distant promise\" and \"girl who stole the star\" have been an important inspiration to me personally throughout my teen years. the higher energy tracks like \"chrono cross ~ time's scar~\", \"time of the dreamwatch\", and \"chronomantique\" (indefinably remeniscent of chrono trigger) are all absolutely superb as well.this soundtrack is amazing music, probably the best of this composer's work (i haven't heard the xenogears soundtrack, so i can't say for sure), and even if you've never played the game, it would be worth twice the price to buy it.i wish i could give it 6 stars.   \n",
       "3                   excellent soundtrack: i truly like this soundtrack and i enjoy video game music. i have played this game and most of the music on here i enjoy and it's truly relaxing and peaceful.on disk one. my favorites are scars of time, between life and death, forest of illusion, fortress of ancient dragons, lost fragment, and drowned valley.disk two: the draggons, galdorb - home, chronomantique, prisoners of fate, gale, and my girlfriend likes zelbessdisk three: the best of the three. garden of god, chronopolis, fates, jellyfish sea, burning orphange, dragon's prayer, tower of stars, dragon god, and radical dreamers - unstealable jewel.overall, this is a excellent soundtrack and should be brought by those that like video game music.xander cross   \n",
       "4                                                                                                                                                                                                                                                                                         remember, pull your jaw off the floor after hearing it: if you've played the game, you know how divine the music is! every single song tells a story of the game, it's that good! the greatest songs are without a doubt, chrono cross: time's scar, magical dreamers: the wind, the stars, and the sea and radical dreamers: unstolen jewel. (translation varies) this music is perfect if you ask me, the best it can be. yasunori mitsuda just poured his heart on and wrote it down on paper.   \n",
       "\n",
       "   label  \n",
       "0      0  \n",
       "1      0  \n",
       "2      0  \n",
       "3      0  \n",
       "4      0  "
      ]
     },
     "execution_count": 6,
     "metadata": {},
     "output_type": "execute_result"
    }
   ],
   "source": [
    "pd.set_option('display.max_colwidth', None)\n",
    "train_df.head()"
   ]
  },
  {
   "cell_type": "code",
   "execution_count": 7,
   "metadata": {
    "execution": {
     "iopub.execute_input": "2021-12-03T00:15:53.798175Z",
     "iopub.status.busy": "2021-12-03T00:15:53.797861Z",
     "iopub.status.idle": "2021-12-03T00:15:54.114820Z",
     "shell.execute_reply": "2021-12-03T00:15:54.113942Z",
     "shell.execute_reply.started": "2021-12-03T00:15:53.798146Z"
    }
   },
   "outputs": [
    {
     "data": {
      "image/png": "[encoded data removed]",
      "text/plain": [
       "<Figure size 432x360 with 1 Axes>"
      ]
     },
     "metadata": {
      "needs_background": "light"
     },
     "output_type": "display_data"
    }
   ],
   "source": [
    "plt.figure(figsize=(6,5))\n",
    "ax = sns.countplot(x=\"label\", data=train_df)\n",
    "plt.title('Reviews Count Labels Distribution')\n",
    "plt.xlabel('Review Labels')\n",
    "plt.ylabel('Count')\n",
    "plt.show()"
   ]
  },
  {
   "cell_type": "code",
   "execution_count": 8,
   "metadata": {
    "execution": {
     "iopub.execute_input": "2021-12-03T00:15:54.117218Z",
     "iopub.status.busy": "2021-12-03T00:15:54.116288Z",
     "iopub.status.idle": "2021-12-03T00:15:54.125982Z",
     "shell.execute_reply": "2021-12-03T00:15:54.125147Z",
     "shell.execute_reply.started": "2021-12-03T00:15:54.117171Z"
    }
   },
   "outputs": [],
   "source": [
    "def clean_text(data):\n",
    "    \"\"\" Normalize words and remove unwanted symbols and punctuation marks \"\"\"\n",
    "    # Convert data to lowercase\n",
    "    data = str(data).lower()\n",
    "    # Remove punctuation\n",
    "    data = re.sub(r\"[^\\w\\s]\",\"\",data)\n",
    "    # Remove URL\n",
    "    data = re.sub(r\"^https?:\\/\\/.*[\\r\\n]*\", \"\", data, flags=re.MULTILINE)\n",
    "    # Remove HTML\n",
    "    data = re.sub(\"<[^<]+?>\", \"\", data)\n",
    "    # Remove numbers\n",
    "    data = re.sub(\"^\\d+\\s|\\s\\d+\\s|\\s\\d+$\", \" \", data)\n",
    "    # Remove line breaks\n",
    "    data = re.sub(\"\\n\", \"\", data)\n",
    "    # Remove punctuation\n",
    "    translator = str.maketrans(\"\", \"\", string.punctuation)\n",
    "    return data.translate(translator)"
   ]
  },
  {
   "cell_type": "code",
   "execution_count": 9,
   "metadata": {
    "execution": {
     "iopub.execute_input": "2021-12-03T00:15:54.127389Z",
     "iopub.status.busy": "2021-12-03T00:15:54.127177Z",
     "iopub.status.idle": "2021-12-03T00:15:54.150542Z",
     "shell.execute_reply": "2021-12-03T00:15:54.149591Z",
     "shell.execute_reply.started": "2021-12-03T00:15:54.127363Z"
    }
   },
   "outputs": [],
   "source": [
    "def remove_punctuations(data):\n",
    "    \"\"\" Remove punctuations \"\"\"\n",
    "    data = [words for words in data if words not in string.punctation]\n",
    "    clean_data = \"\".join(no_punct)\n",
    "    return clean_data"
   ]
  },
  {
   "cell_type": "code",
   "execution_count": 10,
   "metadata": {
    "execution": {
     "iopub.execute_input": "2021-12-03T00:15:54.154689Z",
     "iopub.status.busy": "2021-12-03T00:15:54.154354Z",
     "iopub.status.idle": "2021-12-03T00:15:54.165226Z",
     "shell.execute_reply": "2021-12-03T00:15:54.164208Z",
     "shell.execute_reply.started": "2021-12-03T00:15:54.154651Z"
    }
   },
   "outputs": [],
   "source": [
    "def remove_stopwords(text):\n",
    "    \"\"\" Eliminates stop words \"\"\"\n",
    "    text = [word.lower() for word in text.split() if word.lower() not in stop]\n",
    "    return \" \".join(text)"
   ]
  },
  {
   "cell_type": "code",
   "execution_count": 11,
   "metadata": {
    "execution": {
     "iopub.execute_input": "2021-12-03T00:15:54.167315Z",
     "iopub.status.busy": "2021-12-03T00:15:54.166971Z",
     "iopub.status.idle": "2021-12-03T00:15:54.178920Z",
     "shell.execute_reply": "2021-12-03T00:15:54.177817Z",
     "shell.execute_reply.started": "2021-12-03T00:15:54.167271Z"
    }
   },
   "outputs": [],
   "source": [
    "def apply_lemmatization(sentence):\n",
    "    \"\"\" Apply lemmatization \"\"\"\n",
    "    token_words = word_tokenize(sentence)\n",
    "    new_words = [word for word in token_words if word.isalnum()]\n",
    "    lemmatizer = WordNetLemmatizer()\n",
    "    lemma_sentence = [lemmatizer.lemmatize(word) for word in new_words]\n",
    "    return \" \".join(lemma_sentence)"
   ]
  },
  {
   "cell_type": "code",
   "execution_count": 12,
   "metadata": {
    "execution": {
     "iopub.execute_input": "2021-12-03T00:15:54.181005Z",
     "iopub.status.busy": "2021-12-03T00:15:54.180625Z",
     "iopub.status.idle": "2021-12-03T00:15:54.193375Z",
     "shell.execute_reply": "2021-12-03T00:15:54.192469Z",
     "shell.execute_reply.started": "2021-12-03T00:15:54.180909Z"
    }
   },
   "outputs": [],
   "source": [
    "from nltk.corpus import wordnet\n",
    "\n",
    "def get_wordnet_pos(word):\n",
    "    \"\"\"Maps POS tag to lemmatizer \"\"\"\n",
    "    tag = nltk.pos_tag([word])[0][1][0].upper()\n",
    "    tag_dict = {\n",
    "        \"J\": wordnet.ADJ,\n",
    "        \"N\": wordnet.NOUN,\n",
    "        \"V\": wordnet.VERB,\n",
    "        \"R\": wordnet.ADV\n",
    "    }\n",
    "    return tag_dict.get(tag, wordnet.NOUN)\n",
    "\n",
    "def apply_lemmatization_with_pos_tag(sentence):\n",
    "    \"\"\" Apply lemmatization with POS tag \"\"\"\n",
    "    lemmatizer = WordNetLemmatizer()\n",
    "    lemma_sent = [lemmatizer.lemmatize(word, get_wordnet_pos(word)) for word in word_tokenize(sentence)]\n",
    "    return \" \".join(lemma_sent)"
   ]
  },
  {
   "cell_type": "code",
   "execution_count": 13,
   "metadata": {
    "execution": {
     "iopub.execute_input": "2021-12-03T00:15:54.194856Z",
     "iopub.status.busy": "2021-12-03T00:15:54.194588Z",
     "iopub.status.idle": "2021-12-03T00:15:54.207150Z",
     "shell.execute_reply": "2021-12-03T00:15:54.206150Z",
     "shell.execute_reply.started": "2021-12-03T00:15:54.194825Z"
    }
   },
   "outputs": [],
   "source": [
    "def remove_emoji(text):\n",
    "    regrex_pattern = re.compile(\n",
    "        pattern=\"[\"\n",
    "        u\"\\U0001F600-\\U0001F64F\"  # emoticons\n",
    "        u\"\\U0001F300-\\U0001F5FF\"  # symbols & pictographs\n",
    "        u\"\\U0001F680-\\U0001F6FF\"  # transport & map symbols\n",
    "        u\"\\U0001F1E0-\\U0001F1FF\"  # flags (iOS)\n",
    "        \"]+\",\n",
    "        flags=re.UNICODE)\n",
    "    return regrex_pattern.sub(r'', text)"
   ]
  },
  {
   "cell_type": "code",
   "execution_count": 14,
   "metadata": {
    "execution": {
     "iopub.execute_input": "2021-12-03T00:15:54.208671Z",
     "iopub.status.busy": "2021-12-03T00:15:54.208406Z",
     "iopub.status.idle": "2021-12-03T00:15:54.224615Z",
     "shell.execute_reply": "2021-12-03T00:15:54.223945Z",
     "shell.execute_reply.started": "2021-12-03T00:15:54.208643Z"
    }
   },
   "outputs": [],
   "source": [
    "def words_with_char_limit(sent, word_len=2):\n",
    "    clean_sent = [word.strip().lower() for word in sent.strip().split() if len(word) > 2]\n",
    "    return \" \".join(clean_sent)"
   ]
  },
  {
   "cell_type": "code",
   "execution_count": 15,
   "metadata": {
    "execution": {
     "iopub.execute_input": "2021-12-03T00:15:54.226190Z",
     "iopub.status.busy": "2021-12-03T00:15:54.225819Z",
     "iopub.status.idle": "2021-12-03T00:15:54.245806Z",
     "shell.execute_reply": "2021-12-03T00:15:54.244848Z",
     "shell.execute_reply.started": "2021-12-03T00:15:54.226069Z"
    }
   },
   "outputs": [],
   "source": [
    "train_df['clean_text'] = train_df['text'].copy()\n",
    "test_df['clean_text'] = test_df['text'].copy()"
   ]
  },
  {
   "cell_type": "code",
   "execution_count": 16,
   "metadata": {
    "execution": {
     "iopub.execute_input": "2021-12-03T00:15:54.247816Z",
     "iopub.status.busy": "2021-12-03T00:15:54.247050Z",
     "iopub.status.idle": "2021-12-03T00:24:05.678893Z",
     "shell.execute_reply": "2021-12-03T00:24:05.677159Z",
     "shell.execute_reply.started": "2021-12-03T00:15:54.247761Z"
    }
   },
   "outputs": [],
   "source": [
    "train_df['clean_text'] = train_df['clean_text'].apply(clean_text)\n",
    "train_df['clean_text'] = train_df['clean_text'].apply(remove_emoji)\n",
    "train_df['clean_text'] = train_df['clean_text'].apply(words_with_char_limit)\n",
    "train_df['clean_text'] = train_df['clean_text'].apply(lambda x: remove_stopwords(x))\n",
    "train_df['clean_text'] = train_df['clean_text'].apply(lambda x: apply_lemmatization_with_pos_tag(x))\n",
    "\n",
    "test_df['clean_text'] = test_df['clean_text'].apply(clean_text)\n",
    "test_df['clean_text'] = test_df['clean_text'].apply(remove_emoji)\n",
    "test_df['clean_text'] = test_df['clean_text'].apply(words_with_char_limit)\n",
    "test_df['clean_text'] = test_df['clean_text'].apply(lambda x: remove_stopwords(x))\n",
    "test_df['clean_text'] = test_df['clean_text'].apply(lambda x: apply_lemmatization_with_pos_tag(x))"
   ]
  },
  {
   "cell_type": "code",
   "execution_count": 17,
   "metadata": {
    "execution": {
     "iopub.execute_input": "2021-12-03T00:24:05.682262Z",
     "iopub.status.busy": "2021-12-03T00:24:05.681889Z",
     "iopub.status.idle": "2021-12-03T00:24:05.707729Z",
     "shell.execute_reply": "2021-12-03T00:24:05.706921Z",
     "shell.execute_reply.started": "2021-12-03T00:24:05.682221Z"
    }
   },
   "outputs": [
    {
     "data": {
      "text/html": [
       "<div>\n",
       "<style scoped>\n",
       "    .dataframe tbody tr th:only-of-type {\n",
       "        vertical-align: middle;\n",
       "    }\n",
       "\n",
       "    .dataframe tbody tr th {\n",
       "        vertical-align: top;\n",
       "    }\n",
       "\n",
       "    .dataframe thead th {\n",
       "        text-align: right;\n",
       "    }\n",
       "</style>\n",
       "<table border=\"1\" class=\"dataframe\">\n",
       "  <thead>\n",
       "    <tr style=\"text-align: right;\">\n",
       "      <th></th>\n",
       "      <th>text</th>\n",
       "      <th>label</th>\n",
       "      <th>clean_text</th>\n",
       "    </tr>\n",
       "  </thead>\n",
       "  <tbody>\n",
       "    <tr>\n",
       "      <th>0</th>\n",
       "      <td>stuning even for the non-gamer: this sound track was beautiful! it paints the senery in your mind so well i would recomend it even to people who hate vid. game music! i have played the game chrono cross but out of all of the games i have ever played it has the best music! it backs away from crude keyboarding and takes a fresher step with grate guitars and soulful orchestras. it would impress anyone who cares to listen! ^_^</td>\n",
       "      <td>0</td>\n",
       "      <td>stun even nongamer sound track beautiful paint senery mind well would recomend even people hate vid game music played game chrono cross game ever played best music back away crude keyboarding take fresher step grate guitar soulful orchestra would impress anyone care listen</td>\n",
       "    </tr>\n",
       "    <tr>\n",
       "      <th>1</th>\n",
       "      <td>the best soundtrack ever to anything.: i'm reading a lot of reviews saying that this is the best 'game soundtrack' and i figured that i'd write a review to disagree a bit. this in my opinino is yasunori mitsuda's ultimate masterpiece. the music is timeless and i'm been listening to it for years now and its beauty simply refuses to fade.the price tag on this is pretty staggering i must say, but if you are going to buy any cd for this much money, this is the only one that i feel would be worth every penny.</td>\n",
       "      <td>0</td>\n",
       "      <td>best soundtrack ever anything reading lot review say best game soundtrack figure write review disagree bit opinino yasunori mitsudas ultimate masterpiece music timeless listen year beauty simply refuse fadethe price tag pretty stagger must say go buy much money one feel would worth every penny</td>\n",
       "    </tr>\n",
       "  </tbody>\n",
       "</table>\n",
       "</div>"
      ],
      "text/plain": [
       "                                                                                                                                                                                                                                                                                                                                                                                                                                                                                                                            text  \\\n",
       "0                                                                                     stuning even for the non-gamer: this sound track was beautiful! it paints the senery in your mind so well i would recomend it even to people who hate vid. game music! i have played the game chrono cross but out of all of the games i have ever played it has the best music! it backs away from crude keyboarding and takes a fresher step with grate guitars and soulful orchestras. it would impress anyone who cares to listen! ^_^   \n",
       "1  the best soundtrack ever to anything.: i'm reading a lot of reviews saying that this is the best 'game soundtrack' and i figured that i'd write a review to disagree a bit. this in my opinino is yasunori mitsuda's ultimate masterpiece. the music is timeless and i'm been listening to it for years now and its beauty simply refuses to fade.the price tag on this is pretty staggering i must say, but if you are going to buy any cd for this much money, this is the only one that i feel would be worth every penny.   \n",
       "\n",
       "   label  \\\n",
       "0      0   \n",
       "1      0   \n",
       "\n",
       "                                                                                                                                                                                                                                                                                               clean_text  \n",
       "0                       stun even nongamer sound track beautiful paint senery mind well would recomend even people hate vid game music played game chrono cross game ever played best music back away crude keyboarding take fresher step grate guitar soulful orchestra would impress anyone care listen  \n",
       "1  best soundtrack ever anything reading lot review say best game soundtrack figure write review disagree bit opinino yasunori mitsudas ultimate masterpiece music timeless listen year beauty simply refuse fadethe price tag pretty stagger must say go buy much money one feel would worth every penny  "
      ]
     },
     "metadata": {},
     "output_type": "display_data"
    },
    {
     "data": {
      "text/html": [
       "<div>\n",
       "<style scoped>\n",
       "    .dataframe tbody tr th:only-of-type {\n",
       "        vertical-align: middle;\n",
       "    }\n",
       "\n",
       "    .dataframe tbody tr th {\n",
       "        vertical-align: top;\n",
       "    }\n",
       "\n",
       "    .dataframe thead th {\n",
       "        text-align: right;\n",
       "    }\n",
       "</style>\n",
       "<table border=\"1\" class=\"dataframe\">\n",
       "  <thead>\n",
       "    <tr style=\"text-align: right;\">\n",
       "      <th></th>\n",
       "      <th>text</th>\n",
       "      <th>label</th>\n",
       "      <th>clean_text</th>\n",
       "    </tr>\n",
       "  </thead>\n",
       "  <tbody>\n",
       "    <tr>\n",
       "      <th>0</th>\n",
       "      <td>great cd: my lovely pat has one of the great voices of her generation. i have listened to this cd for years and i still love it. when i'm in a good mood it makes me feel better. a bad mood just evaporates like sugar in the rain. this cd just oozes life. vocals are jusat stuunning and lyrics just kill. one of life's hidden gems. this is a desert isle cd in my book. why she never made it big is just beyond me. everytime i play this, no matter black, white, young, old, male, female everybody says one thing \"who was that singing ?\"</td>\n",
       "      <td>0</td>\n",
       "      <td>great lovely pat one great voice generation listen year still love good mood make feel well bad mood evaporates like sugar rain ooze life vocal jusat stuunning lyric kill one life hidden gem desert isle book never make big beyond everytime play matter black white young old male female everybody say one thing sing</td>\n",
       "    </tr>\n",
       "    <tr>\n",
       "      <th>1</th>\n",
       "      <td>one of the best game music soundtracks - for a game i didn't really play: despite the fact that i have only played a small portion of the game, the music i heard (plus the connection to chrono trigger which was great as well) led me to purchase the soundtrack, and it remains one of my favorite albums. there is an incredible mix of fun, epic, and emotional songs. those sad and beautiful tracks i especially like, as there's not too many of those kinds of songs in my other video game soundtracks. i must admit that one of the songs (life-a distant promise) has brought tears to my eyes on many occasions.my one complaint about this soundtrack is that they use guitar fretting effects in many of the songs, which i find distracting. but even if those weren't included i would still consider the collection worth it.</td>\n",
       "      <td>0</td>\n",
       "      <td>one best game music soundtrack game didnt really play despite fact played small portion game music heard plus connection chrono trigger great well lead purchase soundtrack remains one favorite album incredible mix fun epic emotional song sad beautiful track especially like there many kind song video game soundtrack must admit one song lifea distant promise brought tear eye many occasionsmy one complaint soundtrack use guitar fret effect many song find distract even werent include would still consider collection worth</td>\n",
       "    </tr>\n",
       "  </tbody>\n",
       "</table>\n",
       "</div>"
      ],
      "text/plain": [
       "                                                                                                                                                                                                                                                                                                                                                                                                                                                                                                                                                                                                                                                                                                                                                                                                                                               text  \\\n",
       "0                                                                                                                                                                                                                                                                                             great cd: my lovely pat has one of the great voices of her generation. i have listened to this cd for years and i still love it. when i'm in a good mood it makes me feel better. a bad mood just evaporates like sugar in the rain. this cd just oozes life. vocals are jusat stuunning and lyrics just kill. one of life's hidden gems. this is a desert isle cd in my book. why she never made it big is just beyond me. everytime i play this, no matter black, white, young, old, male, female everybody says one thing \"who was that singing ?\"   \n",
       "1  one of the best game music soundtracks - for a game i didn't really play: despite the fact that i have only played a small portion of the game, the music i heard (plus the connection to chrono trigger which was great as well) led me to purchase the soundtrack, and it remains one of my favorite albums. there is an incredible mix of fun, epic, and emotional songs. those sad and beautiful tracks i especially like, as there's not too many of those kinds of songs in my other video game soundtracks. i must admit that one of the songs (life-a distant promise) has brought tears to my eyes on many occasions.my one complaint about this soundtrack is that they use guitar fretting effects in many of the songs, which i find distracting. but even if those weren't included i would still consider the collection worth it.   \n",
       "\n",
       "   label  \\\n",
       "0      0   \n",
       "1      0   \n",
       "\n",
       "                                                                                                                                                                                                                                                                                                                                                                                                                                                                                                                                   clean_text  \n",
       "0                                                                                                                                                                                                                  great lovely pat one great voice generation listen year still love good mood make feel well bad mood evaporates like sugar rain ooze life vocal jusat stuunning lyric kill one life hidden gem desert isle book never make big beyond everytime play matter black white young old male female everybody say one thing sing  \n",
       "1  one best game music soundtrack game didnt really play despite fact played small portion game music heard plus connection chrono trigger great well lead purchase soundtrack remains one favorite album incredible mix fun epic emotional song sad beautiful track especially like there many kind song video game soundtrack must admit one song lifea distant promise brought tear eye many occasionsmy one complaint soundtrack use guitar fret effect many song find distract even werent include would still consider collection worth  "
      ]
     },
     "metadata": {},
     "output_type": "display_data"
    }
   ],
   "source": [
    "display(train_df.head(2))\n",
    "display(test_df.head(2))"
   ]
  },
  {
   "cell_type": "markdown",
   "metadata": {},
   "source": [
    "## Tokenizer"
   ]
  },
  {
   "cell_type": "code",
   "execution_count": 18,
   "metadata": {
    "execution": {
     "iopub.execute_input": "2021-12-03T00:24:05.709086Z",
     "iopub.status.busy": "2021-12-03T00:24:05.708816Z",
     "iopub.status.idle": "2021-12-03T00:24:11.871518Z",
     "shell.execute_reply": "2021-12-03T00:24:11.870535Z",
     "shell.execute_reply.started": "2021-12-03T00:24:05.709056Z"
    }
   },
   "outputs": [],
   "source": [
    "MAX_FEATURES = 4500\n",
    "INPUT_LENGTH = 256\n",
    "DIMENSIONS = 64\n",
    "\n",
    "tokenizer = Tokenizer(num_words=MAX_FEATURES)\n",
    "\n",
    "tokenizer.fit_on_texts(train_df['clean_text'])\n",
    "tokenizer.fit_on_texts(test_df['clean_text'])\n",
    "\n",
    "train_token = tokenizer.texts_to_sequences(train_df[\"clean_text\"])\n",
    "test_token = tokenizer.texts_to_sequences(test_df[\"clean_text\"])\n",
    "\n",
    "X_train = pad_sequences(train_token, maxlen=INPUT_LENGTH)\n",
    "X_test = pad_sequences(test_token, maxlen=INPUT_LENGTH)"
   ]
  },
  {
   "cell_type": "code",
   "execution_count": 19,
   "metadata": {
    "execution": {
     "iopub.execute_input": "2021-12-03T00:24:11.873808Z",
     "iopub.status.busy": "2021-12-03T00:24:11.873279Z",
     "iopub.status.idle": "2021-12-03T00:24:11.879092Z",
     "shell.execute_reply": "2021-12-03T00:24:11.878159Z",
     "shell.execute_reply.started": "2021-12-03T00:24:11.873759Z"
    }
   },
   "outputs": [],
   "source": [
    "y_train = train_df[\"label\"]\n",
    "y_test =  test_df[\"label\"]"
   ]
  },
  {
   "cell_type": "code",
   "execution_count": 20,
   "metadata": {
    "execution": {
     "iopub.execute_input": "2021-12-03T00:24:11.880581Z",
     "iopub.status.busy": "2021-12-03T00:24:11.880238Z",
     "iopub.status.idle": "2021-12-03T00:24:11.895127Z",
     "shell.execute_reply": "2021-12-03T00:24:11.894242Z",
     "shell.execute_reply.started": "2021-12-03T00:24:11.880551Z"
    }
   },
   "outputs": [
    {
     "name": "stdout",
     "output_type": "stream",
     "text": [
      "X Train Shape: (50000, 256)\n",
      "X Test Shape:  (10000, 256)\n",
      "Y Train Shape: (50000,)\n",
      "Y Test Shape:  (10000,)\n"
     ]
    }
   ],
   "source": [
    "print(f\"X Train Shape: {X_train.shape}\")\n",
    "print(f\"X Test Shape:  {X_test.shape}\")\n",
    "print(f\"Y Train Shape: {y_train.shape}\")\n",
    "print(f\"Y Test Shape:  {y_test.shape}\")"
   ]
  },
  {
   "cell_type": "markdown",
   "metadata": {},
   "source": [
    "# Model Evaluation Metrics"
   ]
  },
  {
   "cell_type": "code",
   "execution_count": 21,
   "metadata": {
    "execution": {
     "iopub.execute_input": "2021-12-03T00:24:11.896872Z",
     "iopub.status.busy": "2021-12-03T00:24:11.896509Z",
     "iopub.status.idle": "2021-12-03T00:24:11.915725Z",
     "shell.execute_reply": "2021-12-03T00:24:11.914616Z",
     "shell.execute_reply.started": "2021-12-03T00:24:11.896842Z"
    }
   },
   "outputs": [],
   "source": [
    "from sklearn.metrics import (accuracy_score, precision_score, recall_score, f1_score, roc_auc_score, \n",
    "                             confusion_matrix, plot_precision_recall_curve)\n",
    "\n",
    "def evaluate_model(y_test, y_pred, model_name):\n",
    "    accuracy = accuracy_score(y_test,y_pred)\n",
    "    precision = precision_score(y_test, y_pred)\n",
    "    recall = recall_score(y_test, y_pred)\n",
    "    f1 = f1_score(y_test, y_pred)\n",
    "    auc = roc_auc_score(y_test, y_pred)\n",
    "    scores = [[accuracy, precision, recall, f1, auc]]\n",
    "    df = pd.DataFrame(scores, columns=[\"Accuracy\", \"Precision\", \"Recall\", \"F1-Measure\", \"AUC\"], index = [model_name])\n",
    "    return df\n",
    "\n",
    "def plot_confusion_matrix(y_test, y_pred):\n",
    "    cm = confusion_matrix(y_test, y_pred)\n",
    "    ax = sns.heatmap(cm, fmt='g', annot=True, cmap=\"coolwarm\")\n",
    "    plt.show()"
   ]
  },
  {
   "cell_type": "markdown",
   "metadata": {},
   "source": [
    "# Long Short-Term Memory (LSTM)"
   ]
  },
  {
   "cell_type": "code",
   "execution_count": 22,
   "metadata": {
    "execution": {
     "iopub.execute_input": "2021-12-03T00:24:11.920362Z",
     "iopub.status.busy": "2021-12-03T00:24:11.919388Z",
     "iopub.status.idle": "2021-12-03T00:24:11.930268Z",
     "shell.execute_reply": "2021-12-03T00:24:11.929486Z",
     "shell.execute_reply.started": "2021-12-03T00:24:11.920297Z"
    }
   },
   "outputs": [],
   "source": [
    "from tensorflow.keras.layers import (Embedding, SpatialDropout1D, LSTM, Dropout, Dense, Conv1D, Bidirectional)\n",
    "from tensorflow.keras import Sequential\n",
    "import tensorflow as tf"
   ]
  },
  {
   "cell_type": "code",
   "execution_count": 23,
   "metadata": {
    "execution": {
     "iopub.execute_input": "2021-12-03T00:24:11.932502Z",
     "iopub.status.busy": "2021-12-03T00:24:11.932037Z",
     "iopub.status.idle": "2021-12-03T00:24:11.943130Z",
     "shell.execute_reply": "2021-12-03T00:24:11.942390Z",
     "shell.execute_reply.started": "2021-12-03T00:24:11.932469Z"
    }
   },
   "outputs": [],
   "source": [
    "def show_train_val_accuracy(epochs, accuracy, val_accuracy):\n",
    "    \"\"\" Plot Training and validation Accuracy \"\"\"\n",
    "    plt.plot(epochs, accuracy, 'r')\n",
    "    plt.plot(epochs, val_accuracy, 'b')\n",
    "    plt.title('Training and validation Accuracy')\n",
    "    plt.xlabel(\"Epochs\")\n",
    "    plt.ylabel(\"Accuracy\")\n",
    "    plt.legend([\"Training Accuracy\", \"Validation Accuracy\"])\n",
    "    plt.show()\n",
    "    \n",
    "def show_train_val_loss(epochs, loss, val_loss):\n",
    "    \"\"\" Plot Training and Validation Loss \"\"\"\n",
    "    plt.plot(epochs, loss, 'r')\n",
    "    plt.plot(epochs, val_loss, 'b')\n",
    "    plt.title('Training and Validation Loss')\n",
    "    plt.xlabel(\"Epochs\")\n",
    "    plt.ylabel(\"Loss\")\n",
    "    plt.legend([\"Training Loss\", \"Validation Loss\"])\n",
    "    plt.show()"
   ]
  },
  {
   "cell_type": "code",
   "execution_count": 24,
   "metadata": {
    "execution": {
     "iopub.execute_input": "2021-12-03T00:24:11.945232Z",
     "iopub.status.busy": "2021-12-03T00:24:11.944881Z",
     "iopub.status.idle": "2021-12-03T00:24:17.879705Z",
     "shell.execute_reply": "2021-12-03T00:24:17.878698Z",
     "shell.execute_reply.started": "2021-12-03T00:24:11.945193Z"
    }
   },
   "outputs": [
    {
     "name": "stderr",
     "output_type": "stream",
     "text": [
      "2021-12-03 00:24:11.966299: I tensorflow/compiler/jit/xla_cpu_device.cc:41] Not creating XLA devices, tf_xla_enable_xla_devices not set\n",
      "2021-12-03 00:24:11.976688: W tensorflow/stream_executor/platform/default/dso_loader.cc:60] Could not load dynamic library 'libcuda.so.1'; dlerror: libcuda.so.1: cannot open shared object file: No such file or directory; LD_LIBRARY_PATH: /opt/conda/lib\n",
      "2021-12-03 00:24:11.976759: W tensorflow/stream_executor/cuda/cuda_driver.cc:326] failed call to cuInit: UNKNOWN ERROR (303)\n",
      "2021-12-03 00:24:11.976803: I tensorflow/stream_executor/cuda/cuda_diagnostics.cc:156] kernel driver does not appear to be running on this host (3767cff90e71): /proc/driver/nvidia/version does not exist\n",
      "2021-12-03 00:24:11.984221: I tensorflow/core/platform/cpu_feature_guard.cc:142] This TensorFlow binary is optimized with oneAPI Deep Neural Network Library (oneDNN) to use the following CPU instructions in performance-critical operations:  AVX2 FMA\n",
      "To enable them in other operations, rebuild TensorFlow with the appropriate compiler flags.\n",
      "2021-12-03 00:24:11.986818: I tensorflow/compiler/jit/xla_gpu_device.cc:99] Not creating XLA devices, tf_xla_enable_xla_devices not set\n",
      "2021-12-03 00:24:11.997343: I tensorflow/compiler/jit/xla_gpu_device.cc:99] Not creating XLA devices, tf_xla_enable_xla_devices not set\n",
      "2021-12-03 00:24:12.039282: I tensorflow/core/distributed_runtime/rpc/grpc_channel.cc:301] Initialize GrpcChannelCache for job worker -> {0 -> 10.0.0.2:8470}\n",
      "2021-12-03 00:24:12.039344: I tensorflow/core/distributed_runtime/rpc/grpc_channel.cc:301] Initialize GrpcChannelCache for job localhost -> {0 -> localhost:30043}\n",
      "2021-12-03 00:24:12.061529: I tensorflow/core/distributed_runtime/rpc/grpc_channel.cc:301] Initialize GrpcChannelCache for job worker -> {0 -> 10.0.0.2:8470}\n",
      "2021-12-03 00:24:12.061588: I tensorflow/core/distributed_runtime/rpc/grpc_channel.cc:301] Initialize GrpcChannelCache for job localhost -> {0 -> localhost:30043}\n",
      "2021-12-03 00:24:12.063708: I tensorflow/core/distributed_runtime/rpc/grpc_server_lib.cc:411] Started server with target: grpc://localhost:30043\n"
     ]
    }
   ],
   "source": [
    "import tensorflow as tf\n",
    "tpu = tf.distribute.cluster_resolver.TPUClusterResolver.connect()\n",
    "tpu_strategy = tf.distribute.experimental.TPUStrategy(tpu)\n",
    "# print(tpu_strategy.num_replicas_in_sync)"
   ]
  },
  {
   "cell_type": "code",
   "execution_count": 25,
   "metadata": {
    "execution": {
     "iopub.execute_input": "2021-12-03T00:24:17.881886Z",
     "iopub.status.busy": "2021-12-03T00:24:17.881567Z",
     "iopub.status.idle": "2021-12-03T00:24:17.891153Z",
     "shell.execute_reply": "2021-12-03T00:24:17.890229Z",
     "shell.execute_reply.started": "2021-12-03T00:24:17.881842Z"
    }
   },
   "outputs": [],
   "source": [
    "def lstm_model(max_features, dimensions, input_length, \n",
    "               lstm_layer, actv, lr, dropout, dense_layer=None):\n",
    "    with tpu_strategy.scope():\n",
    "        model = Sequential()\n",
    "        model.add(Embedding(max_features, dimensions, input_length=input_length))\n",
    "        model.add(LSTM(lstm_layer, return_sequences=True))\n",
    "        model.add(Dropout(dropout))\n",
    "        model.add(LSTM(lstm_layer, return_sequences=False))\n",
    "        model.add(Dropout(dropout))\n",
    "        model.add(Dense(1, activation=\"sigmoid\"))\n",
    "        opt = tf.optimizers.Adam(learning_rate=lr)\n",
    "        model.compile(loss='binary_crossentropy', optimizer=opt, metrics=['accuracy'])\n",
    "    print(model.summary())\n",
    "    plot_model(model)\n",
    "    return model"
   ]
  },
  {
   "cell_type": "code",
   "execution_count": 26,
   "metadata": {
    "execution": {
     "iopub.execute_input": "2021-12-03T00:24:17.892746Z",
     "iopub.status.busy": "2021-12-03T00:24:17.892500Z",
     "iopub.status.idle": "2021-12-03T00:24:17.908745Z",
     "shell.execute_reply": "2021-12-03T00:24:17.907893Z",
     "shell.execute_reply.started": "2021-12-03T00:24:17.892718Z"
    }
   },
   "outputs": [],
   "source": [
    "def bidirectional_lstm_model(max_features, dimensions, input_length, \n",
    "                             lstm_layer, dense_layer, actv, lr, dropout=.20):\n",
    "    with tpu_strategy.scope():\n",
    "        model = Sequential()\n",
    "        model.add(Embedding(max_features, dimensions, input_length=input_length))\n",
    "        model.add(SpatialDropout1D(dropout))\n",
    "        model.add(Bidirectional(LSTM(lstm_layer)))\n",
    "        model.add(Dropout(dropout))\n",
    "        model.add(Dense(dense_layer, activation=actv))\n",
    "        model.add(Dense(1, activation=\"sigmoid\"))\n",
    "        opt = tf.optimizers.Adam(learning_rate=lr)\n",
    "        model.compile(loss='binary_crossentropy', optimizer=opt, metrics=['accuracy'])\n",
    "    print(model.summary())\n",
    "    plot_model(model)\n",
    "    return model"
   ]
  },
  {
   "cell_type": "code",
   "execution_count": 27,
   "metadata": {
    "execution": {
     "iopub.execute_input": "2021-12-03T00:24:17.910613Z",
     "iopub.status.busy": "2021-12-03T00:24:17.910337Z",
     "iopub.status.idle": "2021-12-03T00:24:17.924528Z",
     "shell.execute_reply": "2021-12-03T00:24:17.923604Z",
     "shell.execute_reply.started": "2021-12-03T00:24:17.910585Z"
    }
   },
   "outputs": [],
   "source": [
    "def run_lstm_model(X_train, X_test, y_train, y_test, param_config):\n",
    "    batch_size = param_config.get(\"batch_size\")\n",
    "    epoches = param_config.get(\"epoches\")\n",
    "    model = param_config.get(\"model\")\n",
    "    model_history = model.fit(X_train,\n",
    "                              y_train,\n",
    "                              epochs=epoches, \n",
    "                              batch_size=batch_size, \n",
    "                              validation_split=0.20)\n",
    "    loss, accuracy = model.evaluate(X_test, y_test)\n",
    "    print(f\"Model loss: {loss}\")\n",
    "    print(f\"Model accuracy: {accuracy}\")\n",
    "    accuracy = model_history.history['accuracy']\n",
    "    val_accuracy = model_history.history['val_accuracy']\n",
    "    loss = model_history.history['loss']\n",
    "    val_loss = model_history.history['val_loss']\n",
    "    epochs = range(len(accuracy))\n",
    "    show_train_val_accuracy(epochs, accuracy, val_accuracy)\n",
    "    show_train_val_loss(epochs, loss, val_loss)\n",
    "    y_pred = model.predict(X_test)\n",
    "    y_pred_bin = [1 if i >= 0.5 else 0 for i in y_pred]\n",
    "    y_pred_bin = np.array(y_pred_bin)\n",
    "    lstm_metrics = evaluate_model(y_test, y_pred_bin, \"LSTM\")\n",
    "    display(lstm_metrics)\n",
    "    plot_confusion_matrix(y_test, y_pred_bin)"
   ]
  },
  {
   "cell_type": "code",
   "execution_count": 28,
   "metadata": {
    "execution": {
     "iopub.execute_input": "2021-12-03T00:24:17.928853Z",
     "iopub.status.busy": "2021-12-03T00:24:17.928577Z",
     "iopub.status.idle": "2021-12-03T00:24:17.941403Z",
     "shell.execute_reply": "2021-12-03T00:24:17.940527Z",
     "shell.execute_reply.started": "2021-12-03T00:24:17.928812Z"
    }
   },
   "outputs": [],
   "source": [
    "BATCH_SIZE = 128"
   ]
  },
  {
   "cell_type": "code",
   "execution_count": 29,
   "metadata": {
    "execution": {
     "iopub.execute_input": "2021-12-03T00:24:17.943403Z",
     "iopub.status.busy": "2021-12-03T00:24:17.942927Z",
     "iopub.status.idle": "2021-12-03T00:28:12.213640Z",
     "shell.execute_reply": "2021-12-03T00:28:12.211737Z",
     "shell.execute_reply.started": "2021-12-03T00:24:17.943315Z"
    }
   },
   "outputs": [
    {
     "name": "stdout",
     "output_type": "stream",
     "text": [
      "========== LSTM Model ==========\n",
      "Model: \"sequential\"\n",
      "_________________________________________________________________\n",
      "Layer (type)                 Output Shape              Param #   \n",
      "=================================================================\n",
      "embedding (Embedding)        (None, 256, 300)          1350000   \n",
      "_________________________________________________________________\n",
      "lstm (LSTM)                  (None, 256, 256)          570368    \n",
      "_________________________________________________________________\n",
      "dropout (Dropout)            (None, 256, 256)          0         \n",
      "_________________________________________________________________\n",
      "lstm_1 (LSTM)                (None, 256)               525312    \n",
      "_________________________________________________________________\n",
      "dropout_1 (Dropout)          (None, 256)               0         \n",
      "_________________________________________________________________\n",
      "dense (Dense)                (None, 1)                 257       \n",
      "=================================================================\n",
      "Total params: 2,445,937\n",
      "Trainable params: 2,445,937\n",
      "Non-trainable params: 0\n",
      "_________________________________________________________________\n",
      "None\n",
      "Epoch 1/10\n",
      "625/625 [==============================] - 29s 38ms/step - loss: 0.4344 - accuracy: 0.7916 - val_loss: 0.3083 - val_accuracy: 0.8683\n",
      "Epoch 2/10\n",
      "625/625 [==============================] - 21s 33ms/step - loss: 0.2499 - accuracy: 0.9016 - val_loss: 0.3131 - val_accuracy: 0.8722\n",
      "Epoch 3/10\n",
      "625/625 [==============================] - 21s 34ms/step - loss: 0.2049 - accuracy: 0.9201 - val_loss: 0.3319 - val_accuracy: 0.8634\n",
      "Epoch 4/10\n",
      "625/625 [==============================] - 21s 33ms/step - loss: 0.1574 - accuracy: 0.9421 - val_loss: 0.3715 - val_accuracy: 0.8547\n",
      "Epoch 5/10\n",
      "625/625 [==============================] - 21s 33ms/step - loss: 0.1292 - accuracy: 0.9539 - val_loss: 0.3894 - val_accuracy: 0.8519\n",
      "Epoch 6/10\n",
      "625/625 [==============================] - 21s 33ms/step - loss: 0.1062 - accuracy: 0.9641 - val_loss: 0.4457 - val_accuracy: 0.8490\n",
      "Epoch 7/10\n",
      "625/625 [==============================] - 21s 33ms/step - loss: 0.0783 - accuracy: 0.9743 - val_loss: 0.4941 - val_accuracy: 0.8505\n",
      "Epoch 8/10\n",
      "625/625 [==============================] - 21s 33ms/step - loss: 0.0641 - accuracy: 0.9794 - val_loss: 0.5928 - val_accuracy: 0.8357\n",
      "Epoch 9/10\n",
      "625/625 [==============================] - 21s 34ms/step - loss: 0.0465 - accuracy: 0.9859 - val_loss: 0.6573 - val_accuracy: 0.8460\n",
      "Epoch 10/10\n",
      "625/625 [==============================] - 21s 33ms/step - loss: 0.0388 - accuracy: 0.9880 - val_loss: 0.6693 - val_accuracy: 0.8468\n",
      "313/313 [==============================] - 6s 17ms/step - loss: 0.6767 - accuracy: 0.8463\n",
      "Model loss: 0.6766824126243591\n",
      "Model accuracy: 0.8463000059127808\n"
     ]
    },
    {
     "data": {
      "image/png": "[encoded data removed]",
      "text/plain": [
       "<Figure size 432x288 with 1 Axes>"
      ]
     },
     "metadata": {
      "needs_background": "light"
     },
     "output_type": "display_data"
    },
    {
     "data": {
      "image/png": "[encoded data removed]",
      "text/plain": [
       "<Figure size 432x288 with 1 Axes>"
      ]
     },
     "metadata": {
      "needs_background": "light"
     },
     "output_type": "display_data"
    },
    {
     "data": {
      "text/html": [
       "<div>\n",
       "<style scoped>\n",
       "    .dataframe tbody tr th:only-of-type {\n",
       "        vertical-align: middle;\n",
       "    }\n",
       "\n",
       "    .dataframe tbody tr th {\n",
       "        vertical-align: top;\n",
       "    }\n",
       "\n",
       "    .dataframe thead th {\n",
       "        text-align: right;\n",
       "    }\n",
       "</style>\n",
       "<table border=\"1\" class=\"dataframe\">\n",
       "  <thead>\n",
       "    <tr style=\"text-align: right;\">\n",
       "      <th></th>\n",
       "      <th>Accuracy</th>\n",
       "      <th>Precision</th>\n",
       "      <th>Recall</th>\n",
       "      <th>F1-Measure</th>\n",
       "      <th>AUC</th>\n",
       "    </tr>\n",
       "  </thead>\n",
       "  <tbody>\n",
       "    <tr>\n",
       "      <th>LSTM</th>\n",
       "      <td>0.8463</td>\n",
       "      <td>0.827383</td>\n",
       "      <td>0.865231</td>\n",
       "      <td>0.845884</td>\n",
       "      <td>0.846762</td>\n",
       "    </tr>\n",
       "  </tbody>\n",
       "</table>\n",
       "</div>"
      ],
      "text/plain": [
       "      Accuracy  Precision    Recall  F1-Measure       AUC\n",
       "LSTM    0.8463   0.827383  0.865231    0.845884  0.846762"
      ]
     },
     "metadata": {},
     "output_type": "display_data"
    },
    {
     "data": {
      "image/png": "[encoded data removed]",
      "text/plain": [
       "<Figure size 432x288 with 2 Axes>"
      ]
     },
     "metadata": {
      "needs_background": "light"
     },
     "output_type": "display_data"
    }
   ],
   "source": [
    "print(\"========== LSTM Model ==========\")\n",
    "\n",
    "lstm_param_config = {\n",
    "    \"batch_size\": 64,\n",
    "    \"epoches\": 10,\n",
    "    \"model\": lstm_model(MAX_FEATURES, 300, INPUT_LENGTH,\n",
    "                        lstm_layer=256, actv=\"relu\", lr=0.001, dropout=.20)\n",
    "}\n",
    "run_lstm_model(X_train, X_test, y_train, y_test, lstm_param_config)"
   ]
  },
  {
   "cell_type": "code",
   "execution_count": 30,
   "metadata": {
    "execution": {
     "iopub.execute_input": "2021-12-03T00:28:40.770553Z",
     "iopub.status.busy": "2021-12-03T00:28:40.770207Z",
     "iopub.status.idle": "2021-12-03T00:30:57.345903Z",
     "shell.execute_reply": "2021-12-03T00:30:57.344859Z",
     "shell.execute_reply.started": "2021-12-03T00:28:40.770508Z"
    }
   },
   "outputs": [
    {
     "name": "stdout",
     "output_type": "stream",
     "text": [
      "========== LSTM Model ==========\n",
      "Model: \"sequential_1\"\n",
      "_________________________________________________________________\n",
      "Layer (type)                 Output Shape              Param #   \n",
      "=================================================================\n",
      "embedding_1 (Embedding)      (None, 256, 136)          612000    \n",
      "_________________________________________________________________\n",
      "lstm_2 (LSTM)                (None, 256, 256)          402432    \n",
      "_________________________________________________________________\n",
      "dropout_2 (Dropout)          (None, 256, 256)          0         \n",
      "_________________________________________________________________\n",
      "lstm_3 (LSTM)                (None, 256)               525312    \n",
      "_________________________________________________________________\n",
      "dropout_3 (Dropout)          (None, 256)               0         \n",
      "_________________________________________________________________\n",
      "dense_1 (Dense)              (None, 1)                 257       \n",
      "=================================================================\n",
      "Total params: 1,540,001\n",
      "Trainable params: 1,540,001\n",
      "Non-trainable params: 0\n",
      "_________________________________________________________________\n",
      "None\n",
      "Epoch 1/10\n",
      "313/313 [==============================] - 22s 48ms/step - loss: 0.4662 - accuracy: 0.7647 - val_loss: 0.3191 - val_accuracy: 0.8683\n",
      "Epoch 2/10\n",
      "313/313 [==============================] - 11s 36ms/step - loss: 0.2642 - accuracy: 0.8930 - val_loss: 0.3200 - val_accuracy: 0.8652\n",
      "Epoch 3/10\n",
      "313/313 [==============================] - 11s 36ms/step - loss: 0.2332 - accuracy: 0.9079 - val_loss: 0.3230 - val_accuracy: 0.8621\n",
      "Epoch 4/10\n",
      "313/313 [==============================] - 11s 36ms/step - loss: 0.1881 - accuracy: 0.9268 - val_loss: 0.3740 - val_accuracy: 0.8636\n",
      "Epoch 5/10\n",
      "313/313 [==============================] - 11s 36ms/step - loss: 0.1587 - accuracy: 0.9417 - val_loss: 0.3967 - val_accuracy: 0.8578\n",
      "Epoch 6/10\n",
      "313/313 [==============================] - 11s 36ms/step - loss: 0.1330 - accuracy: 0.9531 - val_loss: 0.4956 - val_accuracy: 0.8532\n",
      "Epoch 7/10\n",
      "313/313 [==============================] - 11s 36ms/step - loss: 0.1077 - accuracy: 0.9625 - val_loss: 0.4777 - val_accuracy: 0.8445\n",
      "Epoch 8/10\n",
      "313/313 [==============================] - 11s 36ms/step - loss: 0.0894 - accuracy: 0.9698 - val_loss: 0.5529 - val_accuracy: 0.8385\n",
      "Epoch 9/10\n",
      "313/313 [==============================] - 11s 36ms/step - loss: 0.0748 - accuracy: 0.9756 - val_loss: 0.6171 - val_accuracy: 0.8405\n",
      "Epoch 10/10\n",
      "313/313 [==============================] - 11s 36ms/step - loss: 0.0654 - accuracy: 0.9790 - val_loss: 0.5972 - val_accuracy: 0.8328\n",
      "313/313 [==============================] - 6s 16ms/step - loss: 0.5645 - accuracy: 0.8404\n",
      "Model loss: 0.5645226836204529\n",
      "Model accuracy: 0.840399980545044\n"
     ]
    },
    {
     "data": {
      "image/png": "[encoded data removed]",
      "text/plain": [
       "<Figure size 432x288 with 1 Axes>"
      ]
     },
     "metadata": {
      "needs_background": "light"
     },
     "output_type": "display_data"
    },
    {
     "data": {
      "image/png": "[encoded data removed]",
      "text/plain": [
       "<Figure size 432x288 with 1 Axes>"
      ]
     },
     "metadata": {
      "needs_background": "light"
     },
     "output_type": "display_data"
    },
    {
     "data": {
      "text/html": [
       "<div>\n",
       "<style scoped>\n",
       "    .dataframe tbody tr th:only-of-type {\n",
       "        vertical-align: middle;\n",
       "    }\n",
       "\n",
       "    .dataframe tbody tr th {\n",
       "        vertical-align: top;\n",
       "    }\n",
       "\n",
       "    .dataframe thead th {\n",
       "        text-align: right;\n",
       "    }\n",
       "</style>\n",
       "<table border=\"1\" class=\"dataframe\">\n",
       "  <thead>\n",
       "    <tr style=\"text-align: right;\">\n",
       "      <th></th>\n",
       "      <th>Accuracy</th>\n",
       "      <th>Precision</th>\n",
       "      <th>Recall</th>\n",
       "      <th>F1-Measure</th>\n",
       "      <th>AUC</th>\n",
       "    </tr>\n",
       "  </thead>\n",
       "  <tbody>\n",
       "    <tr>\n",
       "      <th>LSTM</th>\n",
       "      <td>0.8404</td>\n",
       "      <td>0.825362</td>\n",
       "      <td>0.853128</td>\n",
       "      <td>0.839016</td>\n",
       "      <td>0.84071</td>\n",
       "    </tr>\n",
       "  </tbody>\n",
       "</table>\n",
       "</div>"
      ],
      "text/plain": [
       "      Accuracy  Precision    Recall  F1-Measure      AUC\n",
       "LSTM    0.8404   0.825362  0.853128    0.839016  0.84071"
      ]
     },
     "metadata": {},
     "output_type": "display_data"
    },
    {
     "data": {
      "image/png": "[encoded data removed]",
      "text/plain": [
       "<Figure size 432x288 with 2 Axes>"
      ]
     },
     "metadata": {
      "needs_background": "light"
     },
     "output_type": "display_data"
    }
   ],
   "source": [
    "print(\"========== LSTM Model ==========\")\n",
    "\n",
    "lstm_param_config = {\n",
    "    \"batch_size\": BATCH_SIZE,\n",
    "    \"epoches\": 10,\n",
    "    \"model\": lstm_model(MAX_FEATURES, 136, INPUT_LENGTH,\n",
    "                        lstm_layer=256, actv=\"relu\", lr=0.001, dropout=.20)\n",
    "}\n",
    "run_lstm_model(X_train, X_test, y_train, y_test, lstm_param_config)"
   ]
  },
  {
   "cell_type": "code",
   "execution_count": 31,
   "metadata": {
    "execution": {
     "iopub.execute_input": "2021-12-03T00:31:04.682494Z",
     "iopub.status.busy": "2021-12-03T00:31:04.682148Z",
     "iopub.status.idle": "2021-12-03T00:33:44.958211Z",
     "shell.execute_reply": "2021-12-03T00:33:44.957190Z",
     "shell.execute_reply.started": "2021-12-03T00:31:04.682457Z"
    }
   },
   "outputs": [
    {
     "name": "stdout",
     "output_type": "stream",
     "text": [
      "========== LSTM Model ==========\n",
      "Model: \"sequential_2\"\n",
      "_________________________________________________________________\n",
      "Layer (type)                 Output Shape              Param #   \n",
      "=================================================================\n",
      "embedding_2 (Embedding)      (None, 256, 128)          576000    \n",
      "_________________________________________________________________\n",
      "lstm_4 (LSTM)                (None, 256, 300)          514800    \n",
      "_________________________________________________________________\n",
      "dropout_4 (Dropout)          (None, 256, 300)          0         \n",
      "_________________________________________________________________\n",
      "lstm_5 (LSTM)                (None, 300)               721200    \n",
      "_________________________________________________________________\n",
      "dropout_5 (Dropout)          (None, 300)               0         \n",
      "_________________________________________________________________\n",
      "dense_2 (Dense)              (None, 1)                 301       \n",
      "=================================================================\n",
      "Total params: 1,812,301\n",
      "Trainable params: 1,812,301\n",
      "Non-trainable params: 0\n",
      "_________________________________________________________________\n",
      "None\n",
      "Epoch 1/10\n",
      "313/313 [==============================] - 24s 54ms/step - loss: 0.7308 - accuracy: 0.4974 - val_loss: 0.6927 - val_accuracy: 0.5162\n",
      "Epoch 2/10\n",
      "313/313 [==============================] - 13s 42ms/step - loss: 0.6030 - accuracy: 0.6315 - val_loss: 0.3714 - val_accuracy: 0.8384\n",
      "Epoch 3/10\n",
      "313/313 [==============================] - 13s 43ms/step - loss: 0.3230 - accuracy: 0.8671 - val_loss: 0.3423 - val_accuracy: 0.8510\n",
      "Epoch 4/10\n",
      "313/313 [==============================] - 13s 43ms/step - loss: 0.2884 - accuracy: 0.8876 - val_loss: 0.3497 - val_accuracy: 0.8582\n",
      "Epoch 5/10\n",
      "313/313 [==============================] - 13s 43ms/step - loss: 0.2638 - accuracy: 0.8967 - val_loss: 0.3425 - val_accuracy: 0.8566\n",
      "Epoch 6/10\n",
      "313/313 [==============================] - 13s 43ms/step - loss: 0.2364 - accuracy: 0.9069 - val_loss: 0.3710 - val_accuracy: 0.8581\n",
      "Epoch 7/10\n",
      "313/313 [==============================] - 13s 42ms/step - loss: 0.2136 - accuracy: 0.9200 - val_loss: 0.3795 - val_accuracy: 0.8520\n",
      "Epoch 8/10\n",
      "313/313 [==============================] - 13s 42ms/step - loss: 0.2026 - accuracy: 0.9207 - val_loss: 0.3984 - val_accuracy: 0.8464\n",
      "Epoch 9/10\n",
      "313/313 [==============================] - 13s 43ms/step - loss: 0.1934 - accuracy: 0.9267 - val_loss: 0.4199 - val_accuracy: 0.8357\n",
      "Epoch 10/10\n",
      "313/313 [==============================] - 13s 42ms/step - loss: 0.1872 - accuracy: 0.9282 - val_loss: 0.3943 - val_accuracy: 0.8473\n",
      "313/313 [==============================] - 6s 18ms/step - loss: 0.3781 - accuracy: 0.8577\n",
      "Model loss: 0.37807726860046387\n",
      "Model accuracy: 0.857699990272522\n"
     ]
    },
    {
     "data": {
      "image/png": "[encoded data removed]",
      "text/plain": [
       "<Figure size 432x288 with 1 Axes>"
      ]
     },
     "metadata": {
      "needs_background": "light"
     },
     "output_type": "display_data"
    },
    {
     "data": {
      "image/png": "[encoded data removed]",
      "text/plain": [
       "<Figure size 432x288 with 1 Axes>"
      ]
     },
     "metadata": {
      "needs_background": "light"
     },
     "output_type": "display_data"
    },
    {
     "data": {
      "text/html": [
       "<div>\n",
       "<style scoped>\n",
       "    .dataframe tbody tr th:only-of-type {\n",
       "        vertical-align: middle;\n",
       "    }\n",
       "\n",
       "    .dataframe tbody tr th {\n",
       "        vertical-align: top;\n",
       "    }\n",
       "\n",
       "    .dataframe thead th {\n",
       "        text-align: right;\n",
       "    }\n",
       "</style>\n",
       "<table border=\"1\" class=\"dataframe\">\n",
       "  <thead>\n",
       "    <tr style=\"text-align: right;\">\n",
       "      <th></th>\n",
       "      <th>Accuracy</th>\n",
       "      <th>Precision</th>\n",
       "      <th>Recall</th>\n",
       "      <th>F1-Measure</th>\n",
       "      <th>AUC</th>\n",
       "    </tr>\n",
       "  </thead>\n",
       "  <tbody>\n",
       "    <tr>\n",
       "      <th>LSTM</th>\n",
       "      <td>0.8577</td>\n",
       "      <td>0.868017</td>\n",
       "      <td>0.835077</td>\n",
       "      <td>0.851228</td>\n",
       "      <td>0.857148</td>\n",
       "    </tr>\n",
       "  </tbody>\n",
       "</table>\n",
       "</div>"
      ],
      "text/plain": [
       "      Accuracy  Precision    Recall  F1-Measure       AUC\n",
       "LSTM    0.8577   0.868017  0.835077    0.851228  0.857148"
      ]
     },
     "metadata": {},
     "output_type": "display_data"
    },
    {
     "data": {
      "image/png": "[encoded data removed]",
      "text/plain": [
       "<Figure size 432x288 with 2 Axes>"
      ]
     },
     "metadata": {
      "needs_background": "light"
     },
     "output_type": "display_data"
    }
   ],
   "source": [
    "print(\"========== LSTM Model ==========\")\n",
    "\n",
    "lstm_param_config = {\n",
    "    \"batch_size\": BATCH_SIZE,\n",
    "    \"epoches\": 10,\n",
    "    \"model\": lstm_model(MAX_FEATURES, 128, INPUT_LENGTH,\n",
    "                        lstm_layer=300, actv=\"relu\", lr=0.01, dropout=.20)\n",
    "}\n",
    "run_lstm_model(X_train, X_test, y_train, y_test, lstm_param_config)"
   ]
  },
  {
   "cell_type": "code",
   "execution_count": 32,
   "metadata": {
    "execution": {
     "iopub.execute_input": "2021-12-03T00:33:49.685122Z",
     "iopub.status.busy": "2021-12-03T00:33:49.684765Z",
     "iopub.status.idle": "2021-12-03T00:38:44.688229Z",
     "shell.execute_reply": "2021-12-03T00:38:44.687150Z",
     "shell.execute_reply.started": "2021-12-03T00:33:49.685085Z"
    }
   },
   "outputs": [
    {
     "name": "stdout",
     "output_type": "stream",
     "text": [
      "========== Bidirectional LSTM Model ==========\n",
      "Model: \"sequential_3\"\n",
      "_________________________________________________________________\n",
      "Layer (type)                 Output Shape              Param #   \n",
      "=================================================================\n",
      "embedding_3 (Embedding)      (None, 256, 64)           288000    \n",
      "_________________________________________________________________\n",
      "spatial_dropout1d (SpatialDr (None, 256, 64)           0         \n",
      "_________________________________________________________________\n",
      "bidirectional (Bidirectional (None, 50)                18000     \n",
      "_________________________________________________________________\n",
      "dropout_6 (Dropout)          (None, 50)                0         \n",
      "_________________________________________________________________\n",
      "dense_3 (Dense)              (None, 34)                1734      \n",
      "_________________________________________________________________\n",
      "dense_4 (Dense)              (None, 1)                 35        \n",
      "=================================================================\n",
      "Total params: 307,769\n",
      "Trainable params: 307,769\n",
      "Non-trainable params: 0\n",
      "_________________________________________________________________\n",
      "None\n",
      "Epoch 1/10\n",
      "1250/1250 [==============================] - 34s 24ms/step - loss: 0.4604 - accuracy: 0.7880 - val_loss: 0.3190 - val_accuracy: 0.8635\n",
      "Epoch 2/10\n",
      "1250/1250 [==============================] - 27s 22ms/step - loss: 0.2780 - accuracy: 0.8856 - val_loss: 0.3701 - val_accuracy: 0.8528\n",
      "Epoch 3/10\n",
      "1250/1250 [==============================] - 28s 22ms/step - loss: 0.2400 - accuracy: 0.9053 - val_loss: 0.3378 - val_accuracy: 0.8599\n",
      "Epoch 4/10\n",
      "1250/1250 [==============================] - 27s 22ms/step - loss: 0.2288 - accuracy: 0.9090 - val_loss: 0.3484 - val_accuracy: 0.8574\n",
      "Epoch 5/10\n",
      "1250/1250 [==============================] - 28s 22ms/step - loss: 0.2221 - accuracy: 0.9108 - val_loss: 0.3467 - val_accuracy: 0.8596\n",
      "Epoch 6/10\n",
      "1250/1250 [==============================] - 28s 22ms/step - loss: 0.2164 - accuracy: 0.9145 - val_loss: 0.3734 - val_accuracy: 0.8609\n",
      "Epoch 7/10\n",
      "1250/1250 [==============================] - 28s 22ms/step - loss: 0.2192 - accuracy: 0.9119 - val_loss: 0.3844 - val_accuracy: 0.8569\n",
      "Epoch 8/10\n",
      "1250/1250 [==============================] - 28s 22ms/step - loss: 0.2100 - accuracy: 0.9160 - val_loss: 0.3640 - val_accuracy: 0.8553\n",
      "Epoch 9/10\n",
      "1250/1250 [==============================] - 27s 22ms/step - loss: 0.2111 - accuracy: 0.9159 - val_loss: 0.3780 - val_accuracy: 0.8564\n",
      "Epoch 10/10\n",
      "1250/1250 [==============================] - 28s 22ms/step - loss: 0.2129 - accuracy: 0.9167 - val_loss: 0.3866 - val_accuracy: 0.8520\n",
      "313/313 [==============================] - 5s 15ms/step - loss: 0.3767 - accuracy: 0.8612\n",
      "Model loss: 0.37668877840042114\n",
      "Model accuracy: 0.8611999750137329\n"
     ]
    },
    {
     "data": {
      "image/png": "[encoded data removed]",
      "text/plain": [
       "<Figure size 432x288 with 1 Axes>"
      ]
     },
     "metadata": {
      "needs_background": "light"
     },
     "output_type": "display_data"
    },
    {
     "data": {
      "image/png": "[encoded data removed]",
      "text/plain": [
       "<Figure size 432x288 with 1 Axes>"
      ]
     },
     "metadata": {
      "needs_background": "light"
     },
     "output_type": "display_data"
    },
    {
     "data": {
      "text/html": [
       "<div>\n",
       "<style scoped>\n",
       "    .dataframe tbody tr th:only-of-type {\n",
       "        vertical-align: middle;\n",
       "    }\n",
       "\n",
       "    .dataframe tbody tr th {\n",
       "        vertical-align: top;\n",
       "    }\n",
       "\n",
       "    .dataframe thead th {\n",
       "        text-align: right;\n",
       "    }\n",
       "</style>\n",
       "<table border=\"1\" class=\"dataframe\">\n",
       "  <thead>\n",
       "    <tr style=\"text-align: right;\">\n",
       "      <th></th>\n",
       "      <th>Accuracy</th>\n",
       "      <th>Precision</th>\n",
       "      <th>Recall</th>\n",
       "      <th>F1-Measure</th>\n",
       "      <th>AUC</th>\n",
       "    </tr>\n",
       "  </thead>\n",
       "  <tbody>\n",
       "    <tr>\n",
       "      <th>LSTM</th>\n",
       "      <td>0.8612</td>\n",
       "      <td>0.86713</td>\n",
       "      <td>0.844718</td>\n",
       "      <td>0.855777</td>\n",
       "      <td>0.860798</td>\n",
       "    </tr>\n",
       "  </tbody>\n",
       "</table>\n",
       "</div>"
      ],
      "text/plain": [
       "      Accuracy  Precision    Recall  F1-Measure       AUC\n",
       "LSTM    0.8612    0.86713  0.844718    0.855777  0.860798"
      ]
     },
     "metadata": {},
     "output_type": "display_data"
    },
    {
     "data": {
      "image/png": "[encoded data removed]",
      "text/plain": [
       "<Figure size 432x288 with 2 Axes>"
      ]
     },
     "metadata": {
      "needs_background": "light"
     },
     "output_type": "display_data"
    }
   ],
   "source": [
    "print(\"========== Bidirectional LSTM Model ==========\")\n",
    "\n",
    "bdlstm_param_config = {\n",
    "    \"batch_size\": 32,\n",
    "    \"epoches\": 10,\n",
    "    \"model\": bidirectional_lstm_model(MAX_FEATURES, DIMENSIONS, INPUT_LENGTH,\n",
    "                                      lstm_layer=25, dense_layer=34, actv=\"relu\", lr=0.01)\n",
    "}\n",
    "run_lstm_model(X_train, X_test, y_train, y_test, bdlstm_param_config)"
   ]
  },
  {
   "cell_type": "code",
   "execution_count": 33,
   "metadata": {
    "execution": {
     "iopub.execute_input": "2021-12-03T00:38:44.692603Z",
     "iopub.status.busy": "2021-12-03T00:38:44.691707Z",
     "iopub.status.idle": "2021-12-03T00:43:40.280055Z",
     "shell.execute_reply": "2021-12-03T00:43:40.278988Z",
     "shell.execute_reply.started": "2021-12-03T00:38:44.692560Z"
    }
   },
   "outputs": [
    {
     "name": "stdout",
     "output_type": "stream",
     "text": [
      "========== Bidirectional LSTM Model ==========\n",
      "Model: \"sequential_4\"\n",
      "_________________________________________________________________\n",
      "Layer (type)                 Output Shape              Param #   \n",
      "=================================================================\n",
      "embedding_4 (Embedding)      (None, 256, 64)           288000    \n",
      "_________________________________________________________________\n",
      "spatial_dropout1d_1 (Spatial (None, 256, 64)           0         \n",
      "_________________________________________________________________\n",
      "bidirectional_1 (Bidirection (None, 50)                18000     \n",
      "_________________________________________________________________\n",
      "dropout_7 (Dropout)          (None, 50)                0         \n",
      "_________________________________________________________________\n",
      "dense_5 (Dense)              (None, 32)                1632      \n",
      "_________________________________________________________________\n",
      "dense_6 (Dense)              (None, 1)                 33        \n",
      "=================================================================\n",
      "Total params: 307,665\n",
      "Trainable params: 307,665\n",
      "Non-trainable params: 0\n",
      "_________________________________________________________________\n",
      "None\n",
      "Epoch 1/10\n",
      "1250/1250 [==============================] - 35s 24ms/step - loss: 0.4368 - accuracy: 0.7857 - val_loss: 0.3011 - val_accuracy: 0.8741\n",
      "Epoch 2/10\n",
      "1250/1250 [==============================] - 28s 22ms/step - loss: 0.2531 - accuracy: 0.8994 - val_loss: 0.3115 - val_accuracy: 0.8704\n",
      "Epoch 3/10\n",
      "1250/1250 [==============================] - 28s 22ms/step - loss: 0.2147 - accuracy: 0.9164 - val_loss: 0.3157 - val_accuracy: 0.8652\n",
      "Epoch 4/10\n",
      "1250/1250 [==============================] - 27s 22ms/step - loss: 0.1836 - accuracy: 0.9297 - val_loss: 0.3452 - val_accuracy: 0.8627\n",
      "Epoch 5/10\n",
      "1250/1250 [==============================] - 27s 22ms/step - loss: 0.1572 - accuracy: 0.9426 - val_loss: 0.3673 - val_accuracy: 0.8551\n",
      "Epoch 6/10\n",
      "1250/1250 [==============================] - 28s 22ms/step - loss: 0.1341 - accuracy: 0.9514 - val_loss: 0.4421 - val_accuracy: 0.8572\n",
      "Epoch 7/10\n",
      "1250/1250 [==============================] - 28s 22ms/step - loss: 0.1182 - accuracy: 0.9578 - val_loss: 0.4735 - val_accuracy: 0.8539\n",
      "Epoch 8/10\n",
      "1250/1250 [==============================] - 28s 22ms/step - loss: 0.1013 - accuracy: 0.9642 - val_loss: 0.4885 - val_accuracy: 0.8499\n",
      "Epoch 9/10\n",
      "1250/1250 [==============================] - 28s 22ms/step - loss: 0.0916 - accuracy: 0.9680 - val_loss: 0.5079 - val_accuracy: 0.8414\n",
      "Epoch 10/10\n",
      "1250/1250 [==============================] - 28s 22ms/step - loss: 0.0831 - accuracy: 0.9714 - val_loss: 0.4974 - val_accuracy: 0.8485\n",
      "313/313 [==============================] - 5s 15ms/step - loss: 0.4910 - accuracy: 0.8508\n",
      "Model loss: 0.49103519320487976\n",
      "Model accuracy: 0.8507999777793884\n"
     ]
    },
    {
     "data": {
      "image/png": "[encoded data removed]",
      "text/plain": [
       "<Figure size 432x288 with 1 Axes>"
      ]
     },
     "metadata": {
      "needs_background": "light"
     },
     "output_type": "display_data"
    },
    {
     "data": {
      "image/png": "[encoded data removed]",
      "text/plain": [
       "<Figure size 432x288 with 1 Axes>"
      ]
     },
     "metadata": {
      "needs_background": "light"
     },
     "output_type": "display_data"
    },
    {
     "data": {
      "text/html": [
       "<div>\n",
       "<style scoped>\n",
       "    .dataframe tbody tr th:only-of-type {\n",
       "        vertical-align: middle;\n",
       "    }\n",
       "\n",
       "    .dataframe tbody tr th {\n",
       "        vertical-align: top;\n",
       "    }\n",
       "\n",
       "    .dataframe thead th {\n",
       "        text-align: right;\n",
       "    }\n",
       "</style>\n",
       "<table border=\"1\" class=\"dataframe\">\n",
       "  <thead>\n",
       "    <tr style=\"text-align: right;\">\n",
       "      <th></th>\n",
       "      <th>Accuracy</th>\n",
       "      <th>Precision</th>\n",
       "      <th>Recall</th>\n",
       "      <th>F1-Measure</th>\n",
       "      <th>AUC</th>\n",
       "    </tr>\n",
       "  </thead>\n",
       "  <tbody>\n",
       "    <tr>\n",
       "      <th>LSTM</th>\n",
       "      <td>0.8508</td>\n",
       "      <td>0.82915</td>\n",
       "      <td>0.874051</td>\n",
       "      <td>0.851009</td>\n",
       "      <td>0.851367</td>\n",
       "    </tr>\n",
       "  </tbody>\n",
       "</table>\n",
       "</div>"
      ],
      "text/plain": [
       "      Accuracy  Precision    Recall  F1-Measure       AUC\n",
       "LSTM    0.8508    0.82915  0.874051    0.851009  0.851367"
      ]
     },
     "metadata": {},
     "output_type": "display_data"
    },
    {
     "data": {
      "image/png": "[encoded data removed]",
      "text/plain": [
       "<Figure size 432x288 with 2 Axes>"
      ]
     },
     "metadata": {
      "needs_background": "light"
     },
     "output_type": "display_data"
    }
   ],
   "source": [
    "print(\"========== Bidirectional LSTM Model ==========\")\n",
    "\n",
    "bdlstm_param_config = {\n",
    "    \"batch_size\": 32,\n",
    "    \"epoches\": 10,\n",
    "    \"model\": bidirectional_lstm_model(MAX_FEATURES, DIMENSIONS, INPUT_LENGTH,\n",
    "                                      lstm_layer=25, dense_layer=32, actv=\"relu\", lr=0.001)\n",
    "}\n",
    "run_lstm_model(X_train, X_test, y_train, y_test, bdlstm_param_config)"
   ]
  },
  {
   "cell_type": "code",
   "execution_count": 41,
   "metadata": {
    "execution": {
     "iopub.execute_input": "2021-12-03T01:14:53.777379Z",
     "iopub.status.busy": "2021-12-03T01:14:53.776397Z",
     "iopub.status.idle": "2021-12-03T01:20:10.121124Z",
     "shell.execute_reply": "2021-12-03T01:20:10.120261Z",
     "shell.execute_reply.started": "2021-12-03T01:14:53.777331Z"
    }
   },
   "outputs": [
    {
     "name": "stdout",
     "output_type": "stream",
     "text": [
      "========== Bidirectional LSTM Model ==========\n",
      "Model: \"sequential_12\"\n",
      "_________________________________________________________________\n",
      "Layer (type)                 Output Shape              Param #   \n",
      "=================================================================\n",
      "embedding_12 (Embedding)     (None, 256, 200)          900000    \n",
      "_________________________________________________________________\n",
      "spatial_dropout1d_9 (Spatial (None, 256, 200)          0         \n",
      "_________________________________________________________________\n",
      "bidirectional_9 (Bidirection (None, 512)               935936    \n",
      "_________________________________________________________________\n",
      "dropout_15 (Dropout)         (None, 512)               0         \n",
      "_________________________________________________________________\n",
      "dense_21 (Dense)             (None, 80)                41040     \n",
      "_________________________________________________________________\n",
      "dense_22 (Dense)             (None, 1)                 81        \n",
      "=================================================================\n",
      "Total params: 1,877,057\n",
      "Trainable params: 1,877,057\n",
      "Non-trainable params: 0\n",
      "_________________________________________________________________\n",
      "None\n",
      "Epoch 1/15\n",
      "313/313 [==============================] - 30s 75ms/step - loss: 0.5168 - accuracy: 0.7434 - val_loss: 0.3107 - val_accuracy: 0.8690\n",
      "Epoch 2/15\n",
      "313/313 [==============================] - 19s 62ms/step - loss: 0.2618 - accuracy: 0.8955 - val_loss: 0.3300 - val_accuracy: 0.8713\n",
      "Epoch 3/15\n",
      "313/313 [==============================] - 19s 62ms/step - loss: 0.2111 - accuracy: 0.9182 - val_loss: 0.3390 - val_accuracy: 0.8673\n",
      "Epoch 4/15\n",
      "313/313 [==============================] - 19s 62ms/step - loss: 0.1822 - accuracy: 0.9326 - val_loss: 0.3816 - val_accuracy: 0.8607\n",
      "Epoch 5/15\n",
      "313/313 [==============================] - 19s 62ms/step - loss: 0.1623 - accuracy: 0.9398 - val_loss: 0.3971 - val_accuracy: 0.8544\n",
      "Epoch 6/15\n",
      "313/313 [==============================] - 19s 62ms/step - loss: 0.1335 - accuracy: 0.9536 - val_loss: 0.4337 - val_accuracy: 0.8575\n",
      "Epoch 7/15\n",
      "313/313 [==============================] - 19s 62ms/step - loss: 0.1118 - accuracy: 0.9604 - val_loss: 0.4695 - val_accuracy: 0.8506\n",
      "Epoch 8/15\n",
      "313/313 [==============================] - 19s 62ms/step - loss: 0.0918 - accuracy: 0.9690 - val_loss: 0.4977 - val_accuracy: 0.8487\n",
      "Epoch 9/15\n",
      "313/313 [==============================] - 19s 62ms/step - loss: 0.0827 - accuracy: 0.9721 - val_loss: 0.5596 - val_accuracy: 0.8456\n",
      "Epoch 10/15\n",
      "313/313 [==============================] - 19s 62ms/step - loss: 0.0668 - accuracy: 0.9776 - val_loss: 0.5958 - val_accuracy: 0.8431\n",
      "Epoch 11/15\n",
      "313/313 [==============================] - 19s 62ms/step - loss: 0.0539 - accuracy: 0.9816 - val_loss: 0.6301 - val_accuracy: 0.8376\n",
      "Epoch 12/15\n",
      "313/313 [==============================] - 19s 62ms/step - loss: 0.0451 - accuracy: 0.9836 - val_loss: 0.7324 - val_accuracy: 0.8455\n",
      "Epoch 13/15\n",
      "313/313 [==============================] - 19s 62ms/step - loss: 0.0371 - accuracy: 0.9879 - val_loss: 0.7269 - val_accuracy: 0.8420\n",
      "Epoch 14/15\n",
      "313/313 [==============================] - 19s 62ms/step - loss: 0.0410 - accuracy: 0.9859 - val_loss: 0.7789 - val_accuracy: 0.8437\n",
      "Epoch 15/15\n",
      "313/313 [==============================] - 19s 62ms/step - loss: 0.0344 - accuracy: 0.9879 - val_loss: 0.8502 - val_accuracy: 0.8387\n",
      "313/313 [==============================] - 6s 17ms/step - loss: 0.8272 - accuracy: 0.8462\n",
      "Model loss: 0.8272044658660889\n",
      "Model accuracy: 0.8461999893188477\n"
     ]
    },
    {
     "data": {
      "image/png": "[encoded data removed]",
      "text/plain": [
       "<Figure size 432x288 with 1 Axes>"
      ]
     },
     "metadata": {
      "needs_background": "light"
     },
     "output_type": "display_data"
    },
    {
     "data": {
      "image/png": "[encoded data removed]",
      "text/plain": [
       "<Figure size 432x288 with 1 Axes>"
      ]
     },
     "metadata": {
      "needs_background": "light"
     },
     "output_type": "display_data"
    },
    {
     "data": {
      "text/html": [
       "<div>\n",
       "<style scoped>\n",
       "    .dataframe tbody tr th:only-of-type {\n",
       "        vertical-align: middle;\n",
       "    }\n",
       "\n",
       "    .dataframe tbody tr th {\n",
       "        vertical-align: top;\n",
       "    }\n",
       "\n",
       "    .dataframe thead th {\n",
       "        text-align: right;\n",
       "    }\n",
       "</style>\n",
       "<table border=\"1\" class=\"dataframe\">\n",
       "  <thead>\n",
       "    <tr style=\"text-align: right;\">\n",
       "      <th></th>\n",
       "      <th>Accuracy</th>\n",
       "      <th>Precision</th>\n",
       "      <th>Recall</th>\n",
       "      <th>F1-Measure</th>\n",
       "      <th>AUC</th>\n",
       "    </tr>\n",
       "  </thead>\n",
       "  <tbody>\n",
       "    <tr>\n",
       "      <th>LSTM</th>\n",
       "      <td>0.8462</td>\n",
       "      <td>0.825943</td>\n",
       "      <td>0.867282</td>\n",
       "      <td>0.846108</td>\n",
       "      <td>0.846714</td>\n",
       "    </tr>\n",
       "  </tbody>\n",
       "</table>\n",
       "</div>"
      ],
      "text/plain": [
       "      Accuracy  Precision    Recall  F1-Measure       AUC\n",
       "LSTM    0.8462   0.825943  0.867282    0.846108  0.846714"
      ]
     },
     "metadata": {},
     "output_type": "display_data"
    },
    {
     "data": {
      "image/png": "[encoded data removed]",
      "text/plain": [
       "<Figure size 432x288 with 2 Axes>"
      ]
     },
     "metadata": {
      "needs_background": "light"
     },
     "output_type": "display_data"
    }
   ],
   "source": [
    "print(\"========== Bidirectional LSTM Model ==========\")\n",
    "\n",
    "bdlstm_param_config = {\n",
    "    \"batch_size\": BATCH_SIZE,\n",
    "    \"epoches\": 15,\n",
    "    \"model\": bidirectional_lstm_model(MAX_FEATURES, 200, INPUT_LENGTH,\n",
    "                                      lstm_layer=256, dense_layer=80, actv=\"relu\", lr=0.001)\n",
    "}\n",
    "run_lstm_model(X_train, X_test, y_train, y_test, bdlstm_param_config)"
   ]
  },
  {
   "cell_type": "code",
   "execution_count": null,
   "metadata": {},
   "outputs": [],
   "source": []
  },
  {
   "cell_type": "code",
   "execution_count": null,
   "metadata": {},
   "outputs": [],
   "source": []
  }
 ],
 "metadata": {
  "kernelspec": {
   "display_name": "Python 3",
   "language": "python",
   "name": "python3"
  },
  "language_info": {
   "codemirror_mode": {
    "name": "ipython",
    "version": 3
   },
   "file_extension": ".py",
   "mimetype": "text/x-python",
   "name": "python",
   "nbconvert_exporter": "python",
   "pygments_lexer": "ipython3",
   "version": "3.8.8"
  }
 },
 "nbformat": 4,
 "nbformat_minor": 4
}
